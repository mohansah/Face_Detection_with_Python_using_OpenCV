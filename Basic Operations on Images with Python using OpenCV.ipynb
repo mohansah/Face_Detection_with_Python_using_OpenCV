{
 "cells": [
  {
   "cell_type": "markdown",
   "metadata": {},
   "source": [
    "# Basic Operations on Images using OpenCV"
   ]
  },
  {
   "cell_type": "markdown",
   "metadata": {},
   "source": [
    "## OpenCV\n",
    "\n",
    "OpenCV stands for Open Source Computer Vision Library.\n",
    "\n",
    "## OpenCV-Python\n",
    "\n",
    "OpenCV-Python is the python API for OpenCV. OpenCV-Python is not only fast (since the background consists of code written in C/C++) but is also easy to code and deploy(due to the Python wrapper in foreground). This makes it a great choice to perform computationally intensive programs."
   ]
  },
  {
   "cell_type": "markdown",
   "metadata": {},
   "source": [
    "###########################################################################################################################\n",
    "# Read an image\n",
    "Use the function cv2.imread() to read an image. The image should be in the working directory or a full path of image should be given.\n",
    "\n",
    "Second argument is a flag which specifies the way image should be read.\n",
    "\n",
    "1. cv2.IMREAD_COLOR : Loads a color image. Any transparency of image will be neglected. It is the default flag.\n",
    "2. cv2.IMREAD_GRAYSCALE : Loads image in grayscale mode\n",
    "3. cv2.IMREAD_UNCHANGED : Loads image as such including alpha channel\n",
    "\n",
    "Note : Instead of these three flags, you can simply pass integers 1, 0 or -1 respectively.\n",
    "\n",
    "Warning Even if the image path is wrong, it won’t throw any error, but print img will give you None"
   ]
  },
  {
   "cell_type": "code",
   "execution_count": 1,
   "metadata": {},
   "outputs": [],
   "source": [
    "# Importing cv2 module\n",
    "import cv2"
   ]
  },
  {
   "cell_type": "code",
   "execution_count": 2,
   "metadata": {},
   "outputs": [
    {
     "data": {
      "text/plain": [
       "((960, 960, 3), (960, 960))"
      ]
     },
     "execution_count": 2,
     "metadata": {},
     "output_type": "execute_result"
    }
   ],
   "source": [
    "# Coloured Image\n",
    "img_c=cv2.imread(\"mohan.jpg\", 1)\n",
    "\n",
    "# Black and White (Gray Scale) Image\n",
    "img_g=cv2.imread(\"mohan.jpg\", 0)\n",
    "\n",
    "# Print the shape of images\n",
    "img_c.shape, img_g.shape"
   ]
  },
  {
   "cell_type": "code",
   "execution_count": 3,
   "metadata": {},
   "outputs": [
    {
     "data": {
      "text/plain": [
       "array([[[213, 220, 229],\n",
       "        [213, 220, 229],\n",
       "        [213, 220, 229],\n",
       "        ...,\n",
       "        [187, 194, 203],\n",
       "        [188, 195, 204],\n",
       "        [188, 195, 204]],\n",
       "\n",
       "       [[214, 221, 230],\n",
       "        [214, 221, 230],\n",
       "        [214, 221, 230],\n",
       "        ...,\n",
       "        [187, 194, 203],\n",
       "        [188, 195, 204],\n",
       "        [188, 195, 204]],\n",
       "\n",
       "       [[214, 221, 230],\n",
       "        [214, 221, 230],\n",
       "        [214, 221, 230],\n",
       "        ...,\n",
       "        [187, 194, 203],\n",
       "        [188, 195, 204],\n",
       "        [188, 195, 204]],\n",
       "\n",
       "       ...,\n",
       "\n",
       "       [[201, 154, 255],\n",
       "        [179, 134, 231],\n",
       "        [166, 123, 214],\n",
       "        ...,\n",
       "        [ 30,  27,  23],\n",
       "        [ 30,  27,  23],\n",
       "        [ 30,  27,  23]],\n",
       "\n",
       "       [[198, 151, 250],\n",
       "        [181, 134, 232],\n",
       "        [175, 131, 222],\n",
       "        ...,\n",
       "        [ 30,  27,  23],\n",
       "        [ 30,  27,  23],\n",
       "        [ 30,  27,  23]],\n",
       "\n",
       "       [[191, 144, 243],\n",
       "        [181, 134, 232],\n",
       "        [183, 139, 230],\n",
       "        ...,\n",
       "        [ 30,  27,  23],\n",
       "        [ 30,  27,  23],\n",
       "        [ 30,  27,  23]]], dtype=uint8)"
      ]
     },
     "execution_count": 3,
     "metadata": {},
     "output_type": "execute_result"
    }
   ],
   "source": [
    "# 3D Matrix\n",
    "img_c"
   ]
  },
  {
   "cell_type": "code",
   "execution_count": 4,
   "metadata": {},
   "outputs": [
    {
     "data": {
      "text/plain": [
       "array([[222, 222, 222, ..., 196, 197, 197],\n",
       "       [223, 223, 223, ..., 196, 197, 197],\n",
       "       [223, 223, 223, ..., 196, 197, 197],\n",
       "       ...,\n",
       "       [190, 168, 155, ...,  26,  26,  26],\n",
       "       [186, 169, 163, ...,  26,  26,  26],\n",
       "       [179, 169, 171, ...,  26,  26,  26]], dtype=uint8)"
      ]
     },
     "execution_count": 4,
     "metadata": {},
     "output_type": "execute_result"
    }
   ],
   "source": [
    "# 2D Matrix\n",
    "img_g"
   ]
  },
  {
   "cell_type": "code",
   "execution_count": 5,
   "metadata": {},
   "outputs": [
    {
     "data": {
      "text/plain": [
       "(numpy.ndarray, numpy.ndarray)"
      ]
     },
     "execution_count": 5,
     "metadata": {},
     "output_type": "execute_result"
    }
   ],
   "source": [
    "# Print the type of images\n",
    "type(img_c), type(img_g)"
   ]
  },
  {
   "cell_type": "markdown",
   "metadata": {},
   "source": [
    "# Display an image\n",
    "Use the function cv2.imshow() to display an image in a window. The window automatically fits to the image size.\n",
    "\n",
    "First argument is a window name which is a string. second argument is our image. You can create as many windows as you wish, but with different window names."
   ]
  },
  {
   "cell_type": "code",
   "execution_count": 6,
   "metadata": {},
   "outputs": [],
   "source": [
    "# It will open a new window to display the image\n",
    "# Open a window to display the image and Mohan is the name of the window\n",
    "cv2.imshow('Mohan',img_c)\n",
    "\n",
    "# Wait until a user presses a key\n",
    "cv2.waitKey(0)\n",
    "\n",
    "# Wait for 1000 miliseconds\n",
    "# Here uses does not have to press any key\n",
    "#cv2.waitKey(1000)\n",
    "\n",
    "# Destroy all the windows\n",
    "cv2.destroyAllWindows()"
   ]
  },
  {
   "cell_type": "markdown",
   "metadata": {},
   "source": [
    "cv2.waitKey() is a keyboard binding function. Its argument is the time in milliseconds. The function waits for specified milliseconds for any keyboard event. If you press any key in that time, the program continues. If 0 is passed, it waits indefinitely for a key stroke. It can also be set to detect specific key strokes like, if key a is pressed etc .\n",
    "\n",
    "Note Besides binding keyboard events this function also processes many other GUI events, so you MUST use it to actually display the image.\n",
    "\n",
    "cv2.destroyAllWindows() simply destroys all the windows we created. If you want to destroy any specific window, use the function cv2.destroyWindow() where you pass the exact window name as the argument."
   ]
  },
  {
   "cell_type": "markdown",
   "metadata": {},
   "source": [
    "###########################################################################################################################\n",
    "\n",
    "Note : There is a special case where you can already create a window and load image to it later. In that case, you can specify whether window is resizable or not. It is done with the function cv2.namedWindow(). By default, the flag is cv2.WINDOW_AUTOSIZE. But if you specify flag to be cv2.WINDOW_NORMAL, you can resize window. It will be helpful when image is too large in dimension and adding track bar to windows."
   ]
  },
  {
   "cell_type": "code",
   "execution_count": 7,
   "metadata": {},
   "outputs": [],
   "source": [
    "# Create a window whose name is Mohan\n",
    "cv2.namedWindow('Mohan', cv2.WINDOW_NORMAL)\n",
    "\n",
    "# Load the Image in the windom Mohan created already\n",
    "cv2.imshow('Mohan',img_c)\n",
    "\n",
    "# Wait until a user presses a key\n",
    "cv2.waitKey(0)\n",
    "\n",
    "# Destroy all the windows\n",
    "cv2.destroyAllWindows()"
   ]
  },
  {
   "cell_type": "markdown",
   "metadata": {},
   "source": [
    "# Write an image\n",
    "Use the function cv2.imwrite() to save an image.\n",
    "\n",
    "First argument is the file name, second argument is the image you want to save."
   ]
  },
  {
   "cell_type": "code",
   "execution_count": 8,
   "metadata": {},
   "outputs": [
    {
     "data": {
      "text/plain": [
       "True"
      ]
     },
     "execution_count": 8,
     "metadata": {},
     "output_type": "execute_result"
    }
   ],
   "source": [
    "# This will save the image in PNG format in the working directory.\n",
    "cv2.imwrite('new_img.png',img_c)"
   ]
  },
  {
   "cell_type": "markdown",
   "metadata": {},
   "source": [
    "### Program that loads an image in grayscale, displays it, save the image if you press ‘s’ and exit, or simply exit without saving if you press ESC key."
   ]
  },
  {
   "cell_type": "code",
   "execution_count": 9,
   "metadata": {},
   "outputs": [],
   "source": [
    "import numpy as np\n",
    "import cv2\n",
    "\n",
    "img = cv2.imread('mohan.jpg',0)\n",
    "cv2.imshow('Mohan',img)\n",
    "k = cv2.waitKey(0) & 0xFF\n",
    "if k == 27:         # wait for ESC key to exit\n",
    "    cv2.destroyAllWindows()\n",
    "elif k == ord('s'): # wait for 's' key to save and exit\n",
    "    cv2.imwrite('new_img.png',img)\n",
    "    cv2.destroyAllWindows()"
   ]
  },
  {
   "cell_type": "markdown",
   "metadata": {},
   "source": [
    "Warning If you are using a 64-bit machine, you will have to modify k = cv2.waitKey(0) line as follows : k = cv2.waitKey(0) & 0xFF"
   ]
  },
  {
   "cell_type": "markdown",
   "metadata": {},
   "source": [
    "# Resizing the image\n",
    "Use the function cv2.resize() to save an image.\n",
    "\n",
    "First argument is the image you want to resize, second argument is the new image shape."
   ]
  },
  {
   "cell_type": "code",
   "execution_count": 10,
   "metadata": {},
   "outputs": [],
   "source": [
    "resize_img=cv2.resize(img_g,(500, 500))\n",
    "\n",
    "# For displaying the Resized Image in a new window and Resized Image is the name of the window\n",
    "cv2.imshow('Resized Image',resize_img)\n",
    "\n",
    "# Wait until a user presses a key\n",
    "cv2.waitKey(0)\n",
    "\n",
    "# Destroy all the windows\n",
    "cv2.destroyAllWindows()"
   ]
  },
  {
   "cell_type": "code",
   "execution_count": 11,
   "metadata": {},
   "outputs": [],
   "source": [
    "# For Symmetric resizing\n",
    "\n",
    "resize_sym=cv2.resize(img_g,(int(img_g.shape[0]/2), int(img_g.shape[1]/2)))\n",
    "\n",
    "# For displaying the Resized Image\n",
    "cv2.imshow('Resized Image',resize_img)\n",
    "\n",
    "# Wait until a user presses a key\n",
    "cv2.waitKey(0)\n",
    "\n",
    "# Destroy all the windows\n",
    "cv2.destroyAllWindows()"
   ]
  },
  {
   "cell_type": "markdown",
   "metadata": {},
   "source": [
    "#### Basic Operations on Images"
   ]
  },
  {
   "cell_type": "code",
   "execution_count": 12,
   "metadata": {},
   "outputs": [],
   "source": [
    "# Create a black image which will act as a template.\n",
    "image_blank = np.zeros(shape=(512,512,3), dtype=np.uint8)\n",
    "\n",
    "# Display the black image.\n",
    "cv2.imshow('Image',image_blank)\n",
    "\n",
    "# Wait until a user presses a key\n",
    "cv2.waitKey(0)\n",
    "\n",
    "# Destroy all the windows\n",
    "cv2.destroyAllWindows()"
   ]
  },
  {
   "cell_type": "markdown",
   "metadata": {},
   "source": [
    "Function & Attributes\n",
    "\n",
    "The generalised function for drawing shapes on images is:\n",
    "\n",
    "cv2.shape(line, rectangle etc)(image,Pt1,Pt2,color,thickness)\n",
    "\n",
    "There are some common arguments which are passed in function to draw shapes on images:\n",
    "1. Image on which shapes are to be drawn\n",
    "2. co-ordinates of the shape to be drawn from Pt1(top left) to Pt2(bottom right)\n",
    "3. Color: The color of the shape that is to be drawn. It is passed as a tuple, eg: (255,0,0). For grayscale, it will be the scale of brightness.\n",
    "4. The thickness of the geometrical figure."
   ]
  },
  {
   "cell_type": "markdown",
   "metadata": {},
   "source": [
    "### 1. Straight Line"
   ]
  },
  {
   "cell_type": "code",
   "execution_count": 13,
   "metadata": {},
   "outputs": [],
   "source": [
    "#Drawing a straight line across an image requires specifying the points, through which the line will pass.\n",
    "# Draw a diagonal red line with thickness of 5 px\n",
    "line_red = cv2.line(image_blank,(0,0),(511,511),(255,0,0),5)\n",
    "\n",
    "# Display the image in a separate window and Image is the name of the window\n",
    "cv2.imshow('Image',line_red)\n",
    "\n",
    "# Wait until a user presses a key\n",
    "cv2.waitKey(0)\n",
    "\n",
    "# Destroy all the windows\n",
    "cv2.destroyAllWindows()"
   ]
  },
  {
   "cell_type": "code",
   "execution_count": 14,
   "metadata": {},
   "outputs": [],
   "source": [
    "# Draw a diagonal green line with thickness of 5 px\n",
    "line_green = cv2.line(image_blank,(0,0),(511,511),(0,255,0),5)\n",
    "\n",
    "# Display the image in a separate window and Image is the name of the window\n",
    "cv2.imshow('Image',line_green)\n",
    "\n",
    "# Wait until a user presses a key\n",
    "cv2.waitKey(0)\n",
    "\n",
    "# Destroy all the windows\n",
    "cv2.destroyAllWindows()"
   ]
  },
  {
   "cell_type": "markdown",
   "metadata": {},
   "source": [
    "### 2. Rectangle"
   ]
  },
  {
   "cell_type": "code",
   "execution_count": 15,
   "metadata": {},
   "outputs": [],
   "source": [
    "#For a rectangle, we need to specify the top left and the bottom right coordinates.\n",
    "#Draw a blue rectangle with a thickness of 5 px\n",
    "\n",
    "rectangle= cv2.rectangle(image_blank,(384,0),(510,128),(0,0,255),5)\n",
    "\n",
    "# Display the image in a separate window and Image is the name of the window\n",
    "cv2.imshow('Image',rectangle)\n",
    "\n",
    "# Wait until a user presses a key\n",
    "cv2.waitKey(0)\n",
    "\n",
    "# Destroy all the windows\n",
    "cv2.destroyAllWindows()"
   ]
  },
  {
   "cell_type": "markdown",
   "metadata": {},
   "source": [
    "### 3. Circle"
   ]
  },
  {
   "cell_type": "code",
   "execution_count": 16,
   "metadata": {},
   "outputs": [],
   "source": [
    "#For a circle, we need to pass its center coordinates and radius value. Let us draw a circle inside the rectangle drawn above\n",
    "circle = cv2.circle(image_blank,(447,63), 63, (0,0,255), -1) # -1 corresponds to a filled circle\n",
    "\n",
    "# Display the image in a separate window and Image is the name of the window\n",
    "cv2.imshow('Image',circle)\n",
    "\n",
    "# Wait until a user presses a key\n",
    "cv2.waitKey(0)\n",
    "\n",
    "# Destroy all the windows\n",
    "cv2.destroyAllWindows()"
   ]
  },
  {
   "cell_type": "markdown",
   "metadata": {},
   "source": [
    "### Writing on Images\n",
    "Adding text to images is also similar to drawing shapes on them. But you need to specify certain arguments before doing so:\n",
    "\n",
    "1. Text to be written\n",
    "2. coordinates of the text. The text on an image begins from the bottom left direction.\n",
    "3. Font type and scale.\n",
    "4. Other attributes like color, thickness and line type. Normally the line type that is used is lineType = cv2.LINE_AA."
   ]
  },
  {
   "cell_type": "code",
   "execution_count": 17,
   "metadata": {},
   "outputs": [],
   "source": [
    "font = cv2.FONT_HERSHEY_SIMPLEX\n",
    "text = cv2.putText(image_blank,'Mohan',(10,500), font, 4,(255,255,255),2,cv2.LINE_AA)\n",
    "\n",
    "# Display the image in a separate window and Image is the name of the window\n",
    "cv2.imshow('Image',text)\n",
    "\n",
    "# Wait until a user presses a key\n",
    "cv2.waitKey(0)\n",
    "\n",
    "# Destroy all the windows\n",
    "cv2.destroyAllWindows()"
   ]
  },
  {
   "cell_type": "code",
   "execution_count": null,
   "metadata": {},
   "outputs": [],
   "source": []
  }
 ],
 "metadata": {
  "kernelspec": {
   "display_name": "Python 3",
   "language": "python",
   "name": "python3"
  },
  "language_info": {
   "codemirror_mode": {
    "name": "ipython",
    "version": 3
   },
   "file_extension": ".py",
   "mimetype": "text/x-python",
   "name": "python",
   "nbconvert_exporter": "python",
   "pygments_lexer": "ipython3",
   "version": "3.6.8"
  }
 },
 "nbformat": 4,
 "nbformat_minor": 2
}
