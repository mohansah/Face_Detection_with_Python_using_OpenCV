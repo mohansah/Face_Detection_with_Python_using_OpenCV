{
 "cells": [
  {
   "cell_type": "markdown",
   "metadata": {},
   "source": [
    "# Face Detection with Python using OpenCV"
   ]
  },
  {
   "cell_type": "markdown",
   "metadata": {},
   "source": [
    "Face detection is a computer vision technology that helps to locate/visualize human faces in digital images. This technique is a specific use case of object detection technology that deals with detecting instances of semantic objects of a certain class (such as humans, buildings or cars) in digital images and videos.\n",
    "\n",
    "# OpenCV\n",
    "OpenCV stands for Open Source Computer Vision Library.\n",
    "\n",
    "# OpenCV-Python\n",
    "OpenCV-Python is the python API for OpenCV. OpenCV-Python is not only fast (since the background consists of code written in C/C++) but is also easy to code and deploy(due to the Python wrapper in foreground). This makes it a great choice to perform computationally intensive programs."
   ]
  },
  {
   "cell_type": "markdown",
   "metadata": {},
   "source": [
    "## Face Detection\n",
    "Face detection is a technique that identifies or locates human faces in digital images. A typical example of face detection occurs when we take photographs through our smartphones, and it instantly detects faces in the picture.\n",
    "\n",
    "Face detection is different from Face recognition. Face detection detects merely the presence of faces in an image while facial recognition involves identifying whose face it is.\n",
    "\n",
    "Face detection is performed by using classifiers. A classifier is essentially an algorithm that decides whether a given image is positive(face) or negative(not a face). A classifier needs to be trained on thousands of images with and without faces. Fortunately, OpenCV already has two pre-trained face detection classifiers, which can readily be used in a program. The two classifiers are:\n",
    "\n",
    "1. Haar Classifier and\n",
    "2. Local Binary Pattern(LBP) classifier.\n",
    "\n",
    "## Haar feature-based cascade classifiers\n",
    "Haar-like features are digital image features used in object recognition. This classifier is widely used for tasks like face detection in computer vision industry.\n",
    "\n",
    "Haar cascade classifier employs a machine learning approach for visual object detection which is capable of processing images extremely rapidly and achieving high detection rates. This can be attributed to three main reasons:\n",
    "\n",
    "1. Haar classifier employs 'Integral Image' concept which allows the features used by the detector to be computed very quickly.\n",
    "2. The learning algorithm is based on AdaBoost. It selects a small number of important features from a large set and gives highly efficient classifiers.\n",
    "3. More complex classifiers are combined to form a 'cascade' which discard any non-face regions in an image, thereby spending more computation on promising object-like regions."
   ]
  },
  {
   "cell_type": "markdown",
   "metadata": {},
   "source": [
    "# Methodology Used for Face Detection"
   ]
  },
  {
   "cell_type": "markdown",
   "metadata": {},
   "source": [
    "1. Creating a CascadeClassifier Object and pass Path to the xml file which contains the face features as parameter.\n",
    "2. Read the image in gray scale.\n",
    "3. Method to search for the face rectangle co-ordinates.\n",
    "4. Drawing rectangular face box\n",
    "\n",
    "scaleFactor : decreases the shape value by 5% until the face is found. Smaller this value, greater is the accuracy."
   ]
  },
  {
   "cell_type": "code",
   "execution_count": 1,
   "metadata": {},
   "outputs": [
    {
     "name": "stdout",
     "output_type": "stream",
     "text": [
      "<class 'numpy.ndarray'>\n",
      "[[369 294 238 238]]\n"
     ]
    }
   ],
   "source": [
    "import cv2\n",
    "\n",
    "# Creat a CascadeClassifier Object\n",
    "face_cascade = cv2.CascadeClassifier(\"Haarcascades_xml_files/haarcascade_frontalface_default.xml\")\n",
    "\n",
    "# Reading the image as it is\n",
    "img = cv2.imread(\"mohan.jpg\")\n",
    "\n",
    "# Reading the image as gray scale image\n",
    "gray_img = cv2.cvtColor(img, cv2.COLOR_BGR2GRAY)\n",
    "\n",
    "# Search the co-ordinates of the image\n",
    "faces = face_cascade.detectMultiScale(gray_img, scaleFactor=1.05, minNeighbors=5)\n",
    "\n",
    "print(type(faces))\n",
    "print(faces)"
   ]
  },
  {
   "cell_type": "code",
   "execution_count": 2,
   "metadata": {},
   "outputs": [],
   "source": [
    "# For drawing rectangular face box\n",
    "\n",
    "for x,y,w,h in faces:\n",
    "    img=cv2.rectangle(img, (x,y), (x+w,y+h), (0,255,0), 3)\n",
    "    \n",
    "# For displaying the Image with box\n",
    "cv2.imshow('Image with box',img)\n",
    "\n",
    "# Wait until a user presses a key\n",
    "cv2.waitKey(0)\n",
    "\n",
    "# Destroy all the windows\n",
    "cv2.destroyAllWindows()"
   ]
  },
  {
   "cell_type": "markdown",
   "metadata": {},
   "source": [
    "### For images having multiple faces"
   ]
  },
  {
   "cell_type": "code",
   "execution_count": 3,
   "metadata": {},
   "outputs": [],
   "source": [
    "# This code is also work well for Images having more than one faces\n",
    "\n",
    "import cv2\n",
    "\n",
    "# Creat a CascadeClassifier Object\n",
    "face_cascade = cv2.CascadeClassifier(\"Haarcascades_xml_files/haarcascade_frontalface_default.xml\")\n",
    "\n",
    "# Reading the image as it is\n",
    "img = cv2.imread(\"family.jpg\")\n",
    "\n",
    "# Reading the image as gray scale image\n",
    "gray_img = cv2.cvtColor(img, cv2.COLOR_BGR2GRAY)\n",
    "\n",
    "# Search the co-ordinates of the image\n",
    "faces = face_cascade.detectMultiScale(gray_img, scaleFactor=1.05, minNeighbors=5)\n",
    "\n",
    "# For drawing rectangular face box\n",
    "for x,y,w,h in faces:\n",
    "    gray_img=cv2.rectangle(gray_img, (x,y), (x+w,y+h), (255,255,255), 3)\n",
    "    \n",
    "# For displaying the Image with box\n",
    "cv2.imshow('Family',gray_img)\n",
    "\n",
    "# Wait until a user presses a key\n",
    "cv2.waitKey(0)\n",
    "\n",
    "# Destroy all the windows\n",
    "cv2.destroyAllWindows()"
   ]
  },
  {
   "cell_type": "code",
   "execution_count": null,
   "metadata": {},
   "outputs": [],
   "source": []
  }
 ],
 "metadata": {
  "kernelspec": {
   "display_name": "Python 3",
   "language": "python",
   "name": "python3"
  },
  "language_info": {
   "codemirror_mode": {
    "name": "ipython",
    "version": 3
   },
   "file_extension": ".py",
   "mimetype": "text/x-python",
   "name": "python",
   "nbconvert_exporter": "python",
   "pygments_lexer": "ipython3",
   "version": "3.6.8"
  }
 },
 "nbformat": 4,
 "nbformat_minor": 2
}
