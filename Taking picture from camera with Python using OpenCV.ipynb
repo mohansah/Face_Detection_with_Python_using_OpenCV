{
 "cells": [
  {
   "cell_type": "markdown",
   "metadata": {},
   "source": [
    "# Taking picture from camera\n",
    "Run the code, a window will come which will show whatever present in front of camera and when you will press c it takes the picture of that instant and display in the same window as well as it will save the picture and after that when you will press any key the window will close."
   ]
  },
  {
   "cell_type": "code",
   "execution_count": 1,
   "metadata": {},
   "outputs": [],
   "source": [
    "import numpy as np\n",
    "import cv2\n",
    "\n",
    "# Creating VideoCapture Object\n",
    "# '0' is to specify that use built-in camera\n",
    "cap = cv2.VideoCapture(0)\n",
    "\n",
    "while(True):\n",
    "    \n",
    "    # Capture frame-by-frame\n",
    "    check, frame = cap.read()\n",
    "    # check is a bool data type, return true if python is able to read videoCapture object\n",
    "    # frame is a numPy array, it represents the first image that video captures\n",
    "    \n",
    "\n",
    "    # Converting each frame into a gray scale image\n",
    "    #gray = cv2.cvtColor(frame, cv2.COLOR_BGR2GRAY)      # If you want gray scale image then use this line\n",
    "\n",
    "    # Display the resulting frame\n",
    "    cv2.imshow('Camera Capturing : Smile please',frame)\n",
    "    \n",
    "    # This will generate a new frame after every 1 miliseconds\n",
    "    key=cv2.waitKey(1) & 0xFF\n",
    "    \n",
    "    # Once we enter 'c' the window wwill be destroyed\n",
    "    if key == ord('c'):\n",
    "        break\n",
    "\n",
    "\n",
    "# Capture the last frame\n",
    "check, frame = cap.read()\n",
    "\n",
    "# Show the captured frame\n",
    "cv2.imshow('Camera Capturing : Smile please',frame)\n",
    "\n",
    "# This will save the image in PNG format in the working directory.\n",
    "cv2.imwrite('camera.png', frame)\n",
    "\n",
    "# Wait until a user presses a key\n",
    "cv2.waitKey(0)\n",
    " \n",
    "\n",
    "# When everything done, release the capture\n",
    "# Releasing the camera in some milliseconds\n",
    "cap.release()\n",
    "\n",
    "# Destroy all the windows\n",
    "cv2.destroyAllWindows()"
   ]
  },
  {
   "cell_type": "code",
   "execution_count": null,
   "metadata": {},
   "outputs": [],
   "source": []
  }
 ],
 "metadata": {
  "kernelspec": {
   "display_name": "Python 3",
   "language": "python",
   "name": "python3"
  },
  "language_info": {
   "codemirror_mode": {
    "name": "ipython",
    "version": 3
   },
   "file_extension": ".py",
   "mimetype": "text/x-python",
   "name": "python",
   "nbconvert_exporter": "python",
   "pygments_lexer": "ipython3",
   "version": "3.6.8"
  }
 },
 "nbformat": 4,
 "nbformat_minor": 2
}
